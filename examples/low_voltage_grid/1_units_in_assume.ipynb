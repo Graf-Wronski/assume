{
 "cells": [
  {
   "metadata": {},
   "cell_type": "markdown",
   "source": "# Small steps on a small scale: Integrating low-voltage DNs in ASSUME",
   "id": "bbce9a04d21c20a7"
  },
  {
   "metadata": {},
   "cell_type": "markdown",
   "source": "## Notebook 1: Units as implemented in ASSUME and their ability to participate on a lokal market.",
   "id": "386268acb89af95a"
  },
  {
   "metadata": {},
   "cell_type": "markdown",
   "source": [
    "This notebook displays LV units as implemented in ASSUME and their ability to participate on a lokal market.\n",
    "\n",
    "Deliverables:\n",
    "1. Define a small test distribution network.\n",
    "2. Define a local EOM market, where units can trade.\n",
    "3. Subsequently add BASE, PV, HP, BSS and EV to the market.\n",
    "4. Display resulting trading activity and ask yourself, if transactions make sense."
   ],
   "id": "ded9b42205fd17cf"
  },
  {
   "metadata": {},
   "cell_type": "markdown",
   "source": [
    "### Deliverable 1: Definition of a small test distribution network.\n",
    "\n",
    "Define a test distribution network with:\n",
    "- Five connection points.\n",
    "- If necessary: A radial topology.\n",
    "- A MV / LV transformer.\n",
    "- An infinite supplier / buyer of power on the MV side."
   ],
   "id": "18684ce72864f31f"
  },
  {
   "metadata": {},
   "cell_type": "markdown",
   "source": [
    "### Deliverable 2: Definition of a local EOM market.\n",
    "\n",
    "Define a local EOM market such that:\n",
    "- Units can buy energy from each other and from infinite supplier / buyer.\n",
    "- Trading locally is preferred over buying remotely."
   ],
   "id": "62c81e7b5bba1973"
  },
  {
   "metadata": {},
   "cell_type": "markdown",
   "source": [
    "### Deliverable 3: Subsequently add units to the market.\n",
    "\n",
    "Add:\n",
    "- BASELOAD\n",
    "- PV\n",
    "- BSS\n",
    "- HP\n",
    "- EV"
   ],
   "id": "8c2ae1b73620f7ff"
  },
  {
   "metadata": {},
   "cell_type": "markdown",
   "source": [
    "### Deliverable 4: Display Transactions.\n",
    "\n",
    "Displayed Transactions make sense, if:\n",
    "- Demand meets supply.\n",
    "- Lower prices when buying are preferred.\n",
    "- Higher prices when selling are preferred."
   ],
   "id": "6124acb6f9a5af5c"
  }
 ],
 "metadata": {
  "kernelspec": {
   "display_name": "Python 3",
   "language": "python",
   "name": "python3"
  },
  "language_info": {
   "codemirror_mode": {
    "name": "ipython",
    "version": 2
   },
   "file_extension": ".py",
   "mimetype": "text/x-python",
   "name": "python",
   "nbconvert_exporter": "python",
   "pygments_lexer": "ipython2",
   "version": "2.7.6"
  }
 },
 "nbformat": 4,
 "nbformat_minor": 5
}
